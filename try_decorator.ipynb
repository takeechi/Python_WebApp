{
 "cells": [
  {
   "cell_type": "code",
   "execution_count": 8,
   "metadata": {},
   "outputs": [
    {
     "name": "stdout",
     "output_type": "stream",
     "text": [
      "引数関数の中\n"
     ]
    }
   ],
   "source": [
    "def param_func():\n",
    "    print('引数関数の中')\n",
    "\n",
    "def body_func(param_func):\n",
    "    param_func()\n",
    "\n",
    "body_func(param_func)"
   ]
  },
  {
   "cell_type": "code",
   "execution_count": 9,
   "metadata": {},
   "outputs": [
    {
     "name": "stdout",
     "output_type": "stream",
     "text": [
      "戻り値関数の中\n"
     ]
    },
    {
     "ename": "TypeError",
     "evalue": "'NoneType' object is not callable",
     "output_type": "error",
     "traceback": [
      "\u001b[0;31m---------------------------------------------------------------------------\u001b[0m",
      "\u001b[0;31mTypeError\u001b[0m                                 Traceback (most recent call last)",
      "Cell \u001b[0;32mIn[9], line 7\u001b[0m\n\u001b[1;32m      4\u001b[0m     \u001b[38;5;28;01mreturn\u001b[39;00m return_func()\n\u001b[1;32m      6\u001b[0m return_func \u001b[38;5;241m=\u001b[39m body_func()\n\u001b[0;32m----> 7\u001b[0m \u001b[43mreturn_func\u001b[49m\u001b[43m(\u001b[49m\u001b[43m)\u001b[49m\n",
      "\u001b[0;31mTypeError\u001b[0m: 'NoneType' object is not callable"
     ]
    }
   ],
   "source": [
    "def body_func():\n",
    "    def return_func():\n",
    "        print('戻り値関数の中')\n",
    "    return return_func()\n",
    "\n",
    "return_func = body_func()\n",
    "return_func()"
   ]
  },
  {
   "cell_type": "code",
   "execution_count": 10,
   "metadata": {},
   "outputs": [
    {
     "name": "stdout",
     "output_type": "stream",
     "text": [
      "引数関数の中\n"
     ]
    }
   ],
   "source": [
    "def body_func(param_func):\n",
    "    def return_func():\n",
    "        param_func()\n",
    "    return return_func\n",
    "return_func = body_func(param_func)\n",
    "return_func()"
   ]
  },
  {
   "cell_type": "code",
   "execution_count": 11,
   "metadata": {},
   "outputs": [
    {
     "name": "stdout",
     "output_type": "stream",
     "text": [
      "引数関数の中\n",
      "引数関数実行後に文字列を出力\n"
     ]
    }
   ],
   "source": [
    "def body_func(param_func):\n",
    "    def return_func():\n",
    "        param_func()\n",
    "        print('引数関数実行後に文字列を出力')\n",
    "    return return_func\n",
    "\n",
    "return_func = body_func(param_func)\n",
    "return_func()"
   ]
  },
  {
   "cell_type": "code",
   "execution_count": 12,
   "metadata": {},
   "outputs": [
    {
     "name": "stdout",
     "output_type": "stream",
     "text": [
      "これはテスト関数です\n",
      "引数関数実行後に文字列を出力\n"
     ]
    }
   ],
   "source": [
    "@body_func\n",
    "def test_func():\n",
    "    print('これはテスト関数です')\n",
    "test_func()"
   ]
  },
  {
   "cell_type": "code",
   "execution_count": 36,
   "metadata": {},
   "outputs": [
    {
     "name": "stdout",
     "output_type": "stream",
     "text": [
      "a_func関数を実行しました\n",
      "1\n",
      "引数関数実行後に文字列を出力\n"
     ]
    }
   ],
   "source": [
    "def body_func(param_func):\n",
    "    def _body_func(func):\n",
    "        def return_func():\n",
    "            param_func()\n",
    "            func()\n",
    "            print('引数関数実行後に文字列を出力')\n",
    "            return\n",
    "        return return_func\n",
    "    return _body_func\n",
    "\n",
    "def a_func():\n",
    "    print('a_func関数を実行しました')\n",
    "    return\n",
    "\n",
    "@body_func(a_func)\n",
    "\n",
    "def print_one():\n",
    "    print(\"1\")\n",
    "    return\n",
    "\n",
    "print_one()"
   ]
  }
 ],
 "metadata": {
  "kernelspec": {
   "display_name": "venv",
   "language": "python",
   "name": "python3"
  },
  "language_info": {
   "codemirror_mode": {
    "name": "ipython",
    "version": 3
   },
   "file_extension": ".py",
   "mimetype": "text/x-python",
   "name": "python",
   "nbconvert_exporter": "python",
   "pygments_lexer": "ipython3",
   "version": "3.10.6"
  }
 },
 "nbformat": 4,
 "nbformat_minor": 2
}
