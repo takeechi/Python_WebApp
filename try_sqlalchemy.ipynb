{
 "cells": [
  {
   "cell_type": "code",
   "execution_count": 11,
   "metadata": {},
   "outputs": [],
   "source": [
    "from sqlalchemy import create_engine\n",
    "from sqlalchemy.orm import Session\n",
    "from test_model_bk import Human"
   ]
  },
  {
   "cell_type": "code",
   "execution_count": 12,
   "metadata": {},
   "outputs": [],
   "source": [
    "engine = create_engine('sqlite:///test_db', echo=True)\n",
    "session = Session(engine)"
   ]
  },
  {
   "cell_type": "code",
   "execution_count": 14,
   "metadata": {},
   "outputs": [
    {
     "name": "stdout",
     "output_type": "stream",
     "text": [
      "2024-09-28 14:24:36,810 INFO sqlalchemy.engine.Engine SELECT human.name AS human_name, human.id AS human_id, human.height AS human_height, human.weight AS human_weight \n",
      "FROM human\n",
      "2024-09-28 14:24:36,812 INFO sqlalchemy.engine.Engine [cached since 20.7s ago] ()\n",
      "id:1 name:Toji Sakimori height:172.0\n",
      "id:2 name:Ishikawa height:186.0\n",
      "id:3 name:Spike height:174.0\n"
     ]
    }
   ],
   "source": [
    "humans = session.query(Human).all()\n",
    "for human in humans:\n",
    "    print(f'id:{human.id} name:{human.name} height:{human.height}')"
   ]
  },
  {
   "cell_type": "code",
   "execution_count": 15,
   "metadata": {},
   "outputs": [
    {
     "name": "stdout",
     "output_type": "stream",
     "text": [
      "2024-09-28 14:25:48,669 INFO sqlalchemy.engine.Engine INSERT INTO human (name, id, height, weight) VALUES (?, ?, ?, ?)\n",
      "2024-09-28 14:25:48,670 INFO sqlalchemy.engine.Engine [generated in 0.00170s] ('from_model', 4, 200.0, 200.0)\n",
      "2024-09-28 14:25:48,700 INFO sqlalchemy.engine.Engine COMMIT\n"
     ]
    }
   ],
   "source": [
    "new_human = Human(id=4, name='from_model', height=200, weight=200)\n",
    "session.add(new_human)\n",
    "\n",
    "session.commit()"
   ]
  },
  {
   "cell_type": "code",
   "execution_count": 17,
   "metadata": {},
   "outputs": [
    {
     "name": "stdout",
     "output_type": "stream",
     "text": [
      "2024-09-28 14:26:36,665 INFO sqlalchemy.engine.Engine SELECT human.name AS human_name, human.id AS human_id, human.height AS human_height, human.weight AS human_weight \n",
      "FROM human\n",
      "2024-09-28 14:26:36,667 INFO sqlalchemy.engine.Engine [cached since 140.6s ago] ()\n",
      "{'_sa_instance_state': <sqlalchemy.orm.state.InstanceState object at 0x7fa6be0b3160>, 'id': 1, 'height': 172.0, 'name': 'Toji Sakimori', 'weight': 76.0}\n",
      "{'_sa_instance_state': <sqlalchemy.orm.state.InstanceState object at 0x7fa6be9d3fa0>, 'id': 2, 'height': 186.0, 'name': 'Ishikawa', 'weight': 70.0}\n",
      "{'_sa_instance_state': <sqlalchemy.orm.state.InstanceState object at 0x7fa6be137700>, 'id': 3, 'height': 174.0, 'name': 'Spike', 'weight': 70.0}\n",
      "{'_sa_instance_state': <sqlalchemy.orm.state.InstanceState object at 0x7fa6bdf98460>, 'id': 4, 'height': 200.0, 'name': 'from_model', 'weight': 200.0}\n"
     ]
    }
   ],
   "source": [
    "humans = session.query(Human).all()\n",
    "for human in humans:\n",
    "    print(human.__dict__)"
   ]
  },
  {
   "cell_type": "code",
   "execution_count": 18,
   "metadata": {},
   "outputs": [
    {
     "name": "stdout",
     "output_type": "stream",
     "text": [
      "2024-09-28 14:28:10,797 INFO sqlalchemy.engine.Engine SELECT human.name AS human_name, human.id AS human_id, human.height AS human_height, human.weight AS human_weight \n",
      "FROM human \n",
      "WHERE human.id = ?\n",
      " LIMIT ? OFFSET ?\n",
      "2024-09-28 14:28:10,798 INFO sqlalchemy.engine.Engine [generated in 0.00132s] (4, 1, 0)\n",
      "2024-09-28 14:28:10,814 INFO sqlalchemy.engine.Engine UPDATE human SET height=? WHERE human.id = ?\n",
      "2024-09-28 14:28:10,815 INFO sqlalchemy.engine.Engine [generated in 0.00110s] (2.236, 4)\n",
      "2024-09-28 14:28:10,833 INFO sqlalchemy.engine.Engine DELETE FROM human WHERE human.height > ?\n",
      "2024-09-28 14:28:10,835 INFO sqlalchemy.engine.Engine [generated in 0.00175s] (10,)\n",
      "2024-09-28 14:28:10,848 INFO sqlalchemy.engine.Engine COMMIT\n"
     ]
    }
   ],
   "source": [
    "human4 = session.query(Human).filter(Human.id==4).first()\n",
    "human4.height = 2.236\n",
    "session.query(Human).filter(Human.height>10).delete()\n",
    "session.commit()"
   ]
  },
  {
   "cell_type": "code",
   "execution_count": 20,
   "metadata": {},
   "outputs": [
    {
     "name": "stdout",
     "output_type": "stream",
     "text": [
      "2024-09-28 14:41:06,100 INFO sqlalchemy.engine.Engine SELECT * FROM human WHERE id = ?\n",
      "2024-09-28 14:41:06,155 INFO sqlalchemy.engine.Engine [generated in 0.05658s] (4,)\n",
      "(4, 'from_model', 2.236, 200.0)\n"
     ]
    }
   ],
   "source": [
    "from sqlalchemy.sql import text\n",
    "result_list = session.execute(text(\"SELECT * FROM human WHERE id = :id\"), {\"id\":4})\n",
    "for result in result_list:\n",
    "    print(result)"
   ]
  },
  {
   "cell_type": "code",
   "execution_count": 22,
   "metadata": {},
   "outputs": [],
   "source": [
    "session.close()"
   ]
  }
 ],
 "metadata": {
  "kernelspec": {
   "display_name": "venv",
   "language": "python",
   "name": "python3"
  },
  "language_info": {
   "codemirror_mode": {
    "name": "ipython",
    "version": 3
   },
   "file_extension": ".py",
   "mimetype": "text/x-python",
   "name": "python",
   "nbconvert_exporter": "python",
   "pygments_lexer": "ipython3",
   "version": "3.10.6"
  }
 },
 "nbformat": 4,
 "nbformat_minor": 2
}
